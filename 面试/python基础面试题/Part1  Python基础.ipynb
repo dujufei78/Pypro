{
 "cells": [
  {
   "cell_type": "code",
   "execution_count": null,
   "id": "initial_id",
   "metadata": {
    "collapsed": true
   },
   "outputs": [],
   "source": [
    "# 1.Python语言\n",
    "# 解释型语言：Python/php/matlab/ruby/javascript\n",
    "# 编译型语言：java/c/c#/c++/go/rust\n",
    "\n",
    "# python解释器：\n",
    "# cpython: 使用最广泛，c语言开发的，所以叫cPython，命令行里运行的就是cpython\n",
    "# ipython: 在cpython基础上增强了交互方式，执行代码功能和cpython一样"
   ]
  },
  {
   "cell_type": "code",
   "outputs": [
    {
     "data": {
      "text/plain": "[1, 2, 3, 4]"
     },
     "execution_count": 32,
     "metadata": {},
     "output_type": "execute_result"
    }
   ],
   "source": [
    "# 2.深浅拷贝\n",
    "# 浅copy: 拷贝父对象、引用子对象；增加一个指针，指向一个已经存在的内存\n",
    "# 深copy: 拷贝父对象、拷贝子对象；增加一个新指针，并开辟一个新内存，新指针指向新内存\n",
    "import copy\n",
    "\n",
    "# 一层浅copy\n",
    "l1 = [1, 2, 3]\n",
    "l2 = l1.copy()\n",
    "l1.append(4)\n",
    "l2\n",
    "\n",
    "# 二层浅copy\n",
    "l1 = [1, 2, 3, [4, 5], 6]\n",
    "l2 = l1.copy()\n",
    "l1.append(8)\n",
    "l1[3].append(7)\n",
    "\n",
    "# 一层深copy\n",
    "l1 = [1, 2, 3]\n",
    "l2 = copy.deepcopy(l1)\n",
    "l1.append(4)\n",
    "l2\n",
    "\n",
    "# 二层深copy\n",
    "l1 = [1, 2, 3, [4, 5], 6]\n",
    "l2 = copy.deepcopy(l1)\n",
    "l1.append(7)\n",
    "l1[3].append(8)\n",
    "l2\n",
    "\n",
    "# 赋值\n",
    "# 赋值操作是将一个对象的引用赋给另一个变量，两个变量将引用同一个内存地址中的对象\n",
    "a = [1, 2, 3]\n",
    "b = a\n",
    "a.append(4)\n",
    "b\n",
    "\n",
    "# 诀窍：引用表示\"值相同\""
   ],
   "metadata": {
    "collapsed": false,
    "ExecuteTime": {
     "end_time": "2024-04-11T03:52:20.261017Z",
     "start_time": "2024-04-11T03:52:20.248976Z"
    }
   },
   "id": "dcb9ec17e90ebc28",
   "execution_count": 32
  },
  {
   "cell_type": "code",
   "outputs": [],
   "source": [
    "# 3.Python垃圾回收机制？\n",
    "# 引用计数\n",
    "# 标记清除\n",
    "# 分代回收"
   ],
   "metadata": {
    "collapsed": false
   },
   "id": "ca6debcb6c275222"
  },
  {
   "cell_type": "code",
   "outputs": [
    {
     "name": "stdout",
     "output_type": "stream",
     "text": [
      "8\n"
     ]
    }
   ],
   "source": [
    "# 4.闭包\n",
    "# 一个函数内容嵌套另一个函数，内部函数可以引用外部函数的变量,会产生闭包\n",
    "def outer_function(x):\n",
    "    def inner_function(y):\n",
    "        return x + y\n",
    "    return inner_function\n",
    "\n",
    "closure = outer_function(5)\n",
    "closure(3)  # 输出结果为 8\n",
    "# inner_function为闭包函数\n",
    "\n",
    "# 作用域:\n",
    "# global:\n",
    "# nonlocal:"
   ],
   "metadata": {
    "collapsed": false,
    "ExecuteTime": {
     "end_time": "2024-04-11T07:03:04.806833Z",
     "start_time": "2024-04-11T07:03:04.800521Z"
    }
   },
   "id": "680284133cde1c31",
   "execution_count": 39
  },
  {
   "cell_type": "code",
   "outputs": [],
   "source": [],
   "metadata": {
    "collapsed": false
   },
   "id": "917c68d182c44d90"
  }
 ],
 "metadata": {
  "kernelspec": {
   "display_name": "Python 3",
   "language": "python",
   "name": "python3"
  },
  "language_info": {
   "codemirror_mode": {
    "name": "ipython",
    "version": 2
   },
   "file_extension": ".py",
   "mimetype": "text/x-python",
   "name": "python",
   "nbconvert_exporter": "python",
   "pygments_lexer": "ipython2",
   "version": "2.7.6"
  }
 },
 "nbformat": 4,
 "nbformat_minor": 5
}

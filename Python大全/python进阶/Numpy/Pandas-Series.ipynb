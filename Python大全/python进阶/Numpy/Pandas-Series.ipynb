{
 "cells": [
  {
   "cell_type": "code",
   "execution_count": 2,
   "id": "initial_id",
   "metadata": {
    "collapsed": true,
    "ExecuteTime": {
     "end_time": "2024-01-12T10:33:15.740037700Z",
     "start_time": "2024-01-12T10:33:15.708822900Z"
    }
   },
   "outputs": [],
   "source": [
    "import pandas as pd\n",
    "a = [1,2,3]\n",
    "# data = pd.Series(a) # pandas.Series( data, index, dtype, name, copy)\n",
    "data = pd.Series(a,['x','y','z']) #指定索引"
   ]
  },
  {
   "cell_type": "code",
   "execution_count": 3,
   "outputs": [
    {
     "data": {
      "text/plain": "x    1\ny    2\nz    3\ndtype: int64"
     },
     "execution_count": 3,
     "metadata": {},
     "output_type": "execute_result"
    }
   ],
   "source": [
    "data"
   ],
   "metadata": {
    "collapsed": false,
    "ExecuteTime": {
     "end_time": "2024-01-12T10:33:15.766535500Z",
     "start_time": "2024-01-12T10:33:15.734074400Z"
    }
   },
   "id": "95470feae19793ed"
  }
 ],
 "metadata": {
  "kernelspec": {
   "display_name": "Python 3",
   "language": "python",
   "name": "python3"
  },
  "language_info": {
   "codemirror_mode": {
    "name": "ipython",
    "version": 2
   },
   "file_extension": ".py",
   "mimetype": "text/x-python",
   "name": "python",
   "nbconvert_exporter": "python",
   "pygments_lexer": "ipython2",
   "version": "2.7.6"
  }
 },
 "nbformat": 4,
 "nbformat_minor": 5
}

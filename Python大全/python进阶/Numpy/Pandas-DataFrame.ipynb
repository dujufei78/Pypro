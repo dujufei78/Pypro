{
 "cells": [
  {
   "cell_type": "code",
   "execution_count": 6,
   "id": "initial_id",
   "metadata": {
    "collapsed": true,
    "ExecuteTime": {
     "end_time": "2024-01-15T09:03:00.498598200Z",
     "start_time": "2024-01-15T09:03:00.466531800Z"
    }
   },
   "outputs": [
    {
     "name": "stdout",
     "output_type": "stream",
     "text": [
      "    name age\n",
      "0   dlrb  10\n",
      "1  lucky  12\n",
      "2   glnz  13\n"
     ]
    }
   ],
   "source": [
    "import pandas as pd\n",
    "data = [['dlrb',10],['lucky',12],['glnz',13]]\n",
    "df = pd.DataFrame(data,columns=['name','age'],dtype='string')\n",
    "print(df)"
   ]
  },
  {
   "cell_type": "code",
   "execution_count": 33,
   "outputs": [
    {
     "name": "stdout",
     "output_type": "stream",
     "text": [
      "   name  age\n",
      "3  yang   12\n",
      "4   liu   44\n"
     ]
    }
   ],
   "source": [
    "import pandas as pd\n",
    "data = {'name':['du','jia','yang','liu'], \n",
    "        'age':[12,23,12,44]}\n",
    "df = pd.DataFrame(data,index=['1','du',3,4])\n",
    "# print(df)\n",
    "# print(df.loc[['du',3,4]]) # 返回指定行\n",
    "print(df.loc[[3,4]])"
   ],
   "metadata": {
    "collapsed": false,
    "ExecuteTime": {
     "end_time": "2024-01-15T10:25:52.219193800Z",
     "start_time": "2024-01-15T10:25:52.189096800Z"
    }
   },
   "id": "c781e4442ad5135d"
  },
  {
   "cell_type": "code",
   "execution_count": 35,
   "outputs": [],
   "source": [
    "df.to_csv('name.csv',index=False)  # 保存DataFrame格式数据,index=False表示不将索引写入"
   ],
   "metadata": {
    "collapsed": false,
    "ExecuteTime": {
     "end_time": "2024-01-16T02:24:08.192365700Z",
     "start_time": "2024-01-16T02:24:08.107042900Z"
    }
   },
   "id": "c7704a6e145a8a40"
  },
  {
   "cell_type": "code",
   "execution_count": null,
   "outputs": [],
   "source": [],
   "metadata": {
    "collapsed": false
   },
   "id": "c0e389ebdb82974e"
  }
 ],
 "metadata": {
  "kernelspec": {
   "display_name": "Python 3",
   "language": "python",
   "name": "python3"
  },
  "language_info": {
   "codemirror_mode": {
    "name": "ipython",
    "version": 2
   },
   "file_extension": ".py",
   "mimetype": "text/x-python",
   "name": "python",
   "nbconvert_exporter": "python",
   "pygments_lexer": "ipython2",
   "version": "2.7.6"
  }
 },
 "nbformat": 4,
 "nbformat_minor": 5
}

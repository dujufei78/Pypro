{
 "cells": [
  {
   "cell_type": "code",
   "execution_count": 1,
   "id": "initial_id",
   "metadata": {
    "collapsed": true,
    "ExecuteTime": {
     "end_time": "2024-01-12T10:12:56.665660900Z",
     "start_time": "2024-01-12T10:12:54.970771700Z"
    }
   },
   "outputs": [],
   "source": [
    "import pandas as pd\n",
    "mydatatest = {\n",
    "    \"name\":[\"迪丽\",\"lucky\",\"古力娜扎\"],\n",
    "    \"age\":[13,15,18]}\n",
    "mydata = pd.DataFrame(mydatatest)"
   ]
  },
  {
   "cell_type": "code",
   "execution_count": 2,
   "outputs": [
    {
     "data": {
      "text/plain": "    name  age\n0     迪丽   13\n1  lucky   15\n2   古力娜扎   18",
      "text/html": "<div>\n<style scoped>\n    .dataframe tbody tr th:only-of-type {\n        vertical-align: middle;\n    }\n\n    .dataframe tbody tr th {\n        vertical-align: top;\n    }\n\n    .dataframe thead th {\n        text-align: right;\n    }\n</style>\n<table border=\"1\" class=\"dataframe\">\n  <thead>\n    <tr style=\"text-align: right;\">\n      <th></th>\n      <th>name</th>\n      <th>age</th>\n    </tr>\n  </thead>\n  <tbody>\n    <tr>\n      <th>0</th>\n      <td>迪丽</td>\n      <td>13</td>\n    </tr>\n    <tr>\n      <th>1</th>\n      <td>lucky</td>\n      <td>15</td>\n    </tr>\n    <tr>\n      <th>2</th>\n      <td>古力娜扎</td>\n      <td>18</td>\n    </tr>\n  </tbody>\n</table>\n</div>"
     },
     "execution_count": 2,
     "metadata": {},
     "output_type": "execute_result"
    }
   ],
   "source": [
    "mydata"
   ],
   "metadata": {
    "collapsed": false,
    "ExecuteTime": {
     "end_time": "2024-01-12T10:12:56.719149200Z",
     "start_time": "2024-01-12T10:12:56.666157400Z"
    }
   },
   "id": "d5678de9c1fc9ee5"
  },
  {
   "cell_type": "code",
   "execution_count": null,
   "outputs": [],
   "source": [],
   "metadata": {
    "collapsed": false
   },
   "id": "52762b019105ad9c"
  }
 ],
 "metadata": {
  "kernelspec": {
   "display_name": "Python 3",
   "language": "python",
   "name": "python3"
  },
  "language_info": {
   "codemirror_mode": {
    "name": "ipython",
    "version": 2
   },
   "file_extension": ".py",
   "mimetype": "text/x-python",
   "name": "python",
   "nbconvert_exporter": "python",
   "pygments_lexer": "ipython2",
   "version": "2.7.6"
  }
 },
 "nbformat": 4,
 "nbformat_minor": 5
}

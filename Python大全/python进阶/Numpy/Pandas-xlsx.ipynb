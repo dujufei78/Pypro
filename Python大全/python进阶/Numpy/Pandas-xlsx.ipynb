{
 "cells": [
  {
   "cell_type": "code",
   "execution_count": 1,
   "id": "initial_id",
   "metadata": {
    "collapsed": true,
    "ExecuteTime": {
     "end_time": "2024-01-16T03:40:15.888438900Z",
     "start_time": "2024-01-16T03:40:13.467256900Z"
    }
   },
   "outputs": [
    {
     "name": "stdout",
     "output_type": "stream",
     "text": [
      "              Name            Team  Number Position  Age Height  Weight  \\\n",
      "0    Avery Bradley  Boston Celtics       0       PG   25  45445     180   \n",
      "1      Jae Crowder  Boston Celtics      99       SF   25  45449     235   \n",
      "2     John Holland  Boston Celtics      30       SG   27  45448     205   \n",
      "3      R.J. Hunter  Boston Celtics      28       SG   22  45448     185   \n",
      "4    Jonas Jerebko  Boston Celtics       8       PF   29  45453     231   \n",
      "..             ...             ...     ...      ...  ...    ...     ...   \n",
      "452     Trey Lyles       Utah Jazz      41       PF   20  45453     234   \n",
      "453   Shelvin Mack       Utah Jazz       8       PG   26  45446     203   \n",
      "454      Raul Neto       Utah Jazz      25       PG   24  45444     179   \n",
      "455   Tibor Pleiss       Utah Jazz      21        C   26  45476     256   \n",
      "456    Jeff Withey       Utah Jazz      24        C   26    7-0     231   \n",
      "\n",
      "               College     Salary  \n",
      "0                Texas  7730337.0  \n",
      "1            Marquette  6796117.0  \n",
      "2    Boston University        NaN  \n",
      "3        Georgia State  1148640.0  \n",
      "4                  NaN  5000000.0  \n",
      "..                 ...        ...  \n",
      "452           Kentucky  2239800.0  \n",
      "453             Butler  2433333.0  \n",
      "454                NaN   900000.0  \n",
      "455                NaN  2900000.0  \n",
      "456             Kansas   947276.0  \n",
      "\n",
      "[457 rows x 9 columns]\n"
     ]
    }
   ],
   "source": [
    "import pandas as pd\n",
    "# 读取excel\n",
    "df = pd.read_excel('../data/nba.xlsx') \n",
    "print(df)"
   ]
  },
  {
   "cell_type": "code",
   "execution_count": 6,
   "outputs": [],
   "source": [
    "# 写入excel\n",
    "# df.to_excel('../data/nba_new.xlsx',index =True,header =True,sheet_name='sheet2',startrow=5,startcol=5)\n",
    "df.to_excel('../data/nba_new_no.xlsx',index =False) # 去掉索引"
   ],
   "metadata": {
    "collapsed": false,
    "ExecuteTime": {
     "end_time": "2024-01-16T06:44:13.311745Z",
     "start_time": "2024-01-16T06:44:12.989076600Z"
    }
   },
   "id": "cc52d7a9c55dd67b"
  }
 ],
 "metadata": {
  "kernelspec": {
   "display_name": "Python 3",
   "language": "python",
   "name": "python3"
  },
  "language_info": {
   "codemirror_mode": {
    "name": "ipython",
    "version": 2
   },
   "file_extension": ".py",
   "mimetype": "text/x-python",
   "name": "python",
   "nbconvert_exporter": "python",
   "pygments_lexer": "ipython2",
   "version": "2.7.6"
  }
 },
 "nbformat": 4,
 "nbformat_minor": 5
}

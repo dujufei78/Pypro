{
 "cells": [
  {
   "cell_type": "code",
   "execution_count": 30,
   "id": "initial_id",
   "metadata": {
    "collapsed": true,
    "ExecuteTime": {
     "end_time": "2024-01-24T08:23:26.963782600Z",
     "start_time": "2024-01-24T08:23:26.942917Z"
    }
   },
   "outputs": [
    {
     "name": "stdout",
     "output_type": "stream",
     "text": [
      "           PID  STNUM      STNAME OWN_OCCUPIED  NUM_BEDROOMS NUM_BATH    SQFT\n",
      "0  100001000.0  104.0      PUTNAM            Y           3.0        1  1000.0\n",
      "2  100003000.0  108.0   LEXINGTON            N           3.0        3   600.0\n",
      "7  100008000.0  118.0  WASHINGTON            Y           1.0   HURLEY   605.0\n"
     ]
    }
   ],
   "source": [
    "import pandas as pd\n",
    "\n",
    "df = pd.read_csv('../data/proprity-data.csv', na_values=['n/a', 'na', '--', '-999999999'])\n",
    "# print(df['NUM_BEDROOMS'].isnull()) # 查看NUM_BEDROOMS列里是否为空值\n",
    "new_df = df.dropna(inplace=False)  # dropna() ⽅法返回⼀个新的DataFrame，不会修改源数据,如果想修改，inplace=True\n",
    "print(new_df.to_string())\n",
    "# print(new_df.to_json())"
   ]
  },
  {
   "cell_type": "code",
   "execution_count": 31,
   "outputs": [
    {
     "name": "stdout",
     "output_type": "stream",
     "text": [
      "             PID  STNUM      STNAME OWN_OCCUPIED  NUM_BEDROOMS NUM_BATH    SQFT\n",
      "0    100001000.0  104.0      PUTNAM            Y           3.0        1  1000.0\n",
      "1    100002000.0  106.0   LEXINGTON            N           2.0        2     NaN\n",
      "2    100003000.0  108.0   LEXINGTON            N           3.0        3   600.0\n",
      "3    100004000.0    NaN  WASHINGTON           12           NaN      NaN   601.0\n",
      "4  xxxxxxxxxxxxx  112.0  WASHINGTON            Y           1.0        2   602.0\n",
      "5    100006000.0  114.0  WASHINGTON            Y           NaN        3   603.0\n",
      "6    100007000.0    NaN   LEXINGTON          NaN           2.0        1     NaN\n",
      "7    100008000.0  118.0  WASHINGTON            Y           1.0   HURLEY   605.0\n",
      "8    100009000.0  120.0   LEXINGTON            Y           NaN        2   606.0\n"
     ]
    }
   ],
   "source": [
    "# 使用xxxxxxxxxxxx替换全部的空值、或只替换PID列为空的数据\n",
    "df['PID'].fillna('xxxxxxxxxxxxx', inplace=True)\n",
    "# df.fillna('xxxxxxxxxxxxx', inplace=True)\n",
    "print(df.to_string())"
   ],
   "metadata": {
    "collapsed": false,
    "ExecuteTime": {
     "end_time": "2024-01-24T08:23:28.863411500Z",
     "start_time": "2024-01-24T08:23:28.847326400Z"
    }
   },
   "id": "39920e888bf6e06d"
  },
  {
   "cell_type": "code",
   "execution_count": 23,
   "outputs": [
    {
     "name": "stdout",
     "output_type": "stream",
     "text": [
      "           PID  STNUM      STNAME OWN_OCCUPIED  NUM_BEDROOMS NUM_BATH    SQFT\n",
      "0  100001000.0  104.0      PUTNAM            Y           3.0        1  1000.0\n",
      "1  100002000.0  106.0   LEXINGTON            N           2.0        2     NaN\n",
      "2  100003000.0  108.0   LEXINGTON            N           3.0        3   600.0\n",
      "4          NaN  112.0  WASHINGTON            Y           1.0        2   602.0\n",
      "5  100006000.0  114.0  WASHINGTON            Y           NaN        3   603.0\n",
      "7  100008000.0  118.0  WASHINGTON            Y           1.0   HURLEY   605.0\n",
      "8  100009000.0  120.0   LEXINGTON            Y           NaN        2   606.0\n"
     ]
    }
   ],
   "source": [
    "# 删除某列字段置为空的行\n",
    "df.dropna(subset=['STNUM'], inplace=True) \n",
    "print(df.to_string())"
   ],
   "metadata": {
    "collapsed": false,
    "ExecuteTime": {
     "end_time": "2024-01-24T08:18:24.701225700Z",
     "start_time": "2024-01-24T08:18:24.664579400Z"
    }
   },
   "id": "ca71eeeb069c38bb"
  },
  {
   "cell_type": "code",
   "execution_count": 32,
   "outputs": [
    {
     "name": "stdout",
     "output_type": "stream",
     "text": [
      "           PID       STNUM      STNAME OWN_OCCUPIED NUM_BEDROOMS NUM_BATH  SQFT\n",
      "0  100001000.0  104.000000      PUTNAM            Y            3        1  1000\n",
      "1  100002000.0  106.000000   LEXINGTON            N            2        2    --\n",
      "2  100003000.0  108.000000   LEXINGTON            N            3        3   600\n",
      "3  100004000.0  111.714286  WASHINGTON           12          NaN      NaN   601\n",
      "4          NaN  112.000000  WASHINGTON            Y            1        2   602\n",
      "5  100006000.0  114.000000  WASHINGTON            Y          NaN        3   603\n",
      "6  100007000.0  111.714286   LEXINGTON          NaN            2        1   NaN\n",
      "7  100008000.0  118.000000  WASHINGTON            Y            1   HURLEY   605\n",
      "8  100009000.0  120.000000   LEXINGTON            Y           na        2   606\n"
     ]
    }
   ],
   "source": [
    "# 计算均值、中位数、众数\n",
    "import pandas as pd\n",
    "df = pd.read_csv('../data/proprity-data.csv')\n",
    "\n",
    "# 计算平均值、中位数、众数并填充到空值位置\n",
    "x = df['STNUM'].mean()\n",
    "y = df['STNUM'].median()\n",
    "z = df['STNUM'].mode()\n",
    "df['STNUM'].fillna(x, inplace=True)\n",
    "print(df.to_string())"
   ],
   "metadata": {
    "collapsed": false,
    "ExecuteTime": {
     "end_time": "2024-01-24T08:35:25.004060600Z",
     "start_time": "2024-01-24T08:35:24.983725900Z"
    }
   },
   "id": "fcc5d45eb5e9e6f4"
  }
 ],
 "metadata": {
  "kernelspec": {
   "display_name": "Python 3",
   "language": "python",
   "name": "python3"
  },
  "language_info": {
   "codemirror_mode": {
    "name": "ipython",
    "version": 2
   },
   "file_extension": ".py",
   "mimetype": "text/x-python",
   "name": "python",
   "nbconvert_exporter": "python",
   "pygments_lexer": "ipython2",
   "version": "2.7.6"
  }
 },
 "nbformat": 4,
 "nbformat_minor": 5
}

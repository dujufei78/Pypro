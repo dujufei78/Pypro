{
 "cells": [
  {
   "cell_type": "code",
   "execution_count": 2,
   "id": "initial_id",
   "metadata": {
    "collapsed": true,
    "ExecuteTime": {
     "end_time": "2024-01-19T06:15:59.632777400Z",
     "start_time": "2024-01-19T06:15:58.488156500Z"
    }
   },
   "outputs": [
    {
     "name": "stdout",
     "output_type": "stream",
     "text": [
      "           PID  STNUM      STNAME OWN_OCCUPIED NUM_BEDROOMS NUM_BATH  SQFT\n",
      "0  100001000.0  104.0      PUTNAM            Y            3        1  1000\n",
      "1  100002000.0  106.0   LEXINGTON            N            2        2    --\n",
      "2  100003000.0  108.0   LEXINGTON            N            3        3   600\n",
      "7  100008000.0  118.0  WASHINGTON            Y            1   HURLEY   605\n",
      "8  100009000.0  120.0   LEXINGTON            Y           na        2   606\n"
     ]
    }
   ],
   "source": [
    "import pandas as pd\n",
    "df = pd.read_csv('../data/proprity-data.csv')\n",
    "new_df = df.dropna(inplace=False)\n",
    "print(new_df)"
   ]
  },
  {
   "cell_type": "code",
   "execution_count": 3,
   "outputs": [
    {
     "name": "stdout",
     "output_type": "stream",
     "text": [
      "0    False\n",
      "1    False\n",
      "2    False\n",
      "3     True\n",
      "4    False\n",
      "5     True\n",
      "6    False\n",
      "7    False\n",
      "8    False\n",
      "Name: NUM_BEDROOMS, dtype: bool\n",
      "           PID  STNUM      STNAME OWN_OCCUPIED NUM_BEDROOMS NUM_BATH  SQFT\n",
      "0  100001000.0  104.0      PUTNAM            Y            3        1  1000\n",
      "1  100002000.0  106.0   LEXINGTON            N            2        2    --\n",
      "2  100003000.0  108.0   LEXINGTON            N            3        3   600\n",
      "3  100004000.0    NaN  WASHINGTON           12          NaN      NaN   601\n",
      "4          NaN  112.0  WASHINGTON            Y            1        2   602\n",
      "5  100006000.0  114.0  WASHINGTON            Y          NaN        3   603\n",
      "6  100007000.0    NaN   LEXINGTON          NaN            2        1   NaN\n",
      "7  100008000.0  118.0  WASHINGTON            Y            1   HURLEY   605\n",
      "8  100009000.0  120.0   LEXINGTON            Y           na        2   606\n"
     ]
    }
   ],
   "source": [
    "\n",
    "# na_values = ['n/a', 'na','--']\n",
    "print(df['NUM_BEDROOMS'].isnull())\n",
    "# print(df.to_json())\n",
    "print(df.to_string())\n"
   ],
   "metadata": {
    "collapsed": false,
    "ExecuteTime": {
     "end_time": "2024-01-19T06:15:59.674175900Z",
     "start_time": "2024-01-19T06:15:59.633773600Z"
    }
   },
   "id": "4fc545edf80fcd2f"
  },
  {
   "cell_type": "code",
   "execution_count": 4,
   "outputs": [
    {
     "name": "stdout",
     "output_type": "stream",
     "text": [
      "           PID    STNUM      STNAME OWN_OCCUPIED NUM_BEDROOMS NUM_BATH   SQFT\n",
      "0  100001000.0    104.0      PUTNAM            Y            3        1   1000\n",
      "1  100002000.0    106.0   LEXINGTON            N            2        2     --\n",
      "2  100003000.0    108.0   LEXINGTON            N            3        3    600\n",
      "3  100004000.0  12345.0  WASHINGTON           12        12345    12345    601\n",
      "4      12345.0    112.0  WASHINGTON            Y            1        2    602\n",
      "5  100006000.0    114.0  WASHINGTON            Y        12345        3    603\n",
      "6  100007000.0  12345.0   LEXINGTON        12345            2        1  12345\n",
      "7  100008000.0    118.0  WASHINGTON            Y            1   HURLEY    605\n",
      "8  100009000.0    120.0   LEXINGTON            Y           na        2    606\n"
     ]
    }
   ],
   "source": [
    "# 使用12345替换空值\n",
    "df.fillna(12345,inplace=True)\n",
    "print(df.to_string())"
   ],
   "metadata": {
    "collapsed": false,
    "ExecuteTime": {
     "end_time": "2024-01-19T06:15:59.676229400Z",
     "start_time": "2024-01-19T06:15:59.649401800Z"
    }
   },
   "id": "39920e888bf6e06d"
  },
  {
   "cell_type": "code",
   "execution_count": 4,
   "outputs": [],
   "source": [],
   "metadata": {
    "collapsed": false,
    "ExecuteTime": {
     "end_time": "2024-01-19T06:15:59.734822500Z",
     "start_time": "2024-01-19T06:15:59.665699200Z"
    }
   },
   "id": "7fcade5f3b0d9481"
  }
 ],
 "metadata": {
  "kernelspec": {
   "display_name": "Python 3",
   "language": "python",
   "name": "python3"
  },
  "language_info": {
   "codemirror_mode": {
    "name": "ipython",
    "version": 2
   },
   "file_extension": ".py",
   "mimetype": "text/x-python",
   "name": "python",
   "nbconvert_exporter": "python",
   "pygments_lexer": "ipython2",
   "version": "2.7.6"
  }
 },
 "nbformat": 4,
 "nbformat_minor": 5
}

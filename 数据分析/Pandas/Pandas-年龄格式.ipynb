{
 "cells": [
  {
   "cell_type": "code",
   "execution_count": 5,
   "id": "initial_id",
   "metadata": {
    "collapsed": true,
    "ExecuteTime": {
     "end_time": "2024-01-24T10:09:26.942667Z",
     "start_time": "2024-01-24T10:09:26.917339200Z"
    }
   },
   "outputs": [
    {
     "name": "stdout",
     "output_type": "stream",
     "text": [
      "    name    age\n",
      "0   dlrb     50\n",
      "1  lucky     40\n",
      "2   glnz  12345\n"
     ]
    }
   ],
   "source": [
    "import pandas as pd\n",
    "person = {\n",
    " \"name\": ['dlrb', 'lucky' , 'glnz'],\n",
    " \"age\": [50, 40, 12345] # 12345 年龄数据是错误的\n",
    "}\n",
    "df = pd.DataFrame(person)\n",
    "print(df)"
   ]
  },
  {
   "cell_type": "code",
   "execution_count": 6,
   "outputs": [
    {
     "name": "stdout",
     "output_type": "stream",
     "text": [
      "    name  age\n",
      "0   dlrb   50\n",
      "1  lucky   40\n",
      "2   glnz   30\n"
     ]
    }
   ],
   "source": [
    "# 将第三行的age改为30\n",
    "df.loc[2,'age']=30\n",
    "print(df)"
   ],
   "metadata": {
    "collapsed": false,
    "ExecuteTime": {
     "end_time": "2024-01-24T10:09:32.655208Z",
     "start_time": "2024-01-24T10:09:32.632133700Z"
    }
   },
   "id": "b61bceb903054e94"
  },
  {
   "cell_type": "code",
   "execution_count": 9,
   "outputs": [
    {
     "name": "stdout",
     "output_type": "stream",
     "text": [
      "<bound method DataFrame.to_string of     name  age\n",
      "0   dlrb   50\n",
      "1  lucky  120\n",
      "2   glnz  120>\n"
     ]
    }
   ],
   "source": [
    "# 将 age ⼤于 120 的设置为 120\n",
    "import pandas as pd\n",
    "person = {\n",
    " \"name\": ['dlrb', 'lucky' , 'glnz'],\n",
    " \"age\": [50, 200, 12345] \n",
    "}\n",
    "df = pd.DataFrame(person)\n",
    "for x in df.index:\n",
    "    if df.loc[x,'age'] > 120:\n",
    "        df.loc[x,'age'] = 120\n",
    "print(df.to_string)"
   ],
   "metadata": {
    "collapsed": false,
    "ExecuteTime": {
     "end_time": "2024-01-24T10:16:49.051411800Z",
     "start_time": "2024-01-24T10:16:49.029268200Z"
    }
   },
   "id": "5a7633a907e89d34"
  },
  {
   "cell_type": "code",
   "execution_count": 11,
   "outputs": [
    {
     "name": "stdout",
     "output_type": "stream",
     "text": [
      "   name  age\n",
      "0  dlrb   50\n"
     ]
    }
   ],
   "source": [
    "# 将 age ⼤于 120 的删除:\n",
    "import pandas as pd\n",
    "person = {\n",
    " \"name\": ['dlrb', 'lucky' , 'glnz'],\n",
    " \"age\": [50, 200, 12345] \n",
    "}\n",
    "df = pd.DataFrame(person)\n",
    "for x in df.index:\n",
    "    if df.loc[x,'age'] > 120:\n",
    "        df.drop(x,inplace=True)\n",
    "print(df.to_string())"
   ],
   "metadata": {
    "collapsed": false
   },
   "id": "d0140c243f896c56"
  }
 ],
 "metadata": {
  "kernelspec": {
   "display_name": "Python 3",
   "language": "python",
   "name": "python3"
  },
  "language_info": {
   "codemirror_mode": {
    "name": "ipython",
    "version": 2
   },
   "file_extension": ".py",
   "mimetype": "text/x-python",
   "name": "python",
   "nbconvert_exporter": "python",
   "pygments_lexer": "ipython2",
   "version": "2.7.6"
  }
 },
 "nbformat": 4,
 "nbformat_minor": 5
}

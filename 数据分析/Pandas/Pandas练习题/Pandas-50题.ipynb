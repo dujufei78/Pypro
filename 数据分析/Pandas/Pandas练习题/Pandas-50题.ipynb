{
 "cells": [
  {
   "cell_type": "code",
   "execution_count": 10,
   "id": "initial_id",
   "metadata": {
    "collapsed": true,
    "ExecuteTime": {
     "end_time": "2024-04-10T01:40:32.138793Z",
     "start_time": "2024-04-10T01:40:32.132448Z"
    }
   },
   "outputs": [
    {
     "data": {
      "text/plain": "'2.0.3'"
     },
     "execution_count": 10,
     "metadata": {},
     "output_type": "execute_result"
    }
   ],
   "source": [
    "# 1.导入 Pandas 库并简写为 pd，并输出版本号\n",
    "import pandas as pd\n",
    "import numpy as np\n",
    "pd.__version__"
   ]
  },
  {
   "cell_type": "code",
   "outputs": [
    {
     "data": {
      "text/plain": "0    0\n1    1\n2    2\n3    3\n4    4\ndtype: int64"
     },
     "execution_count": 6,
     "metadata": {},
     "output_type": "execute_result"
    }
   ],
   "source": [
    "# 2.从列表创建 Series\n",
    "arr = [0, 1, 2, 3, 4]\n",
    "df = pd.Series(arr)\n",
    "df"
   ],
   "metadata": {
    "collapsed": false,
    "ExecuteTime": {
     "end_time": "2024-04-10T01:37:38.255699Z",
     "start_time": "2024-04-10T01:37:38.248679Z"
    }
   },
   "id": "76d99fa7ef377ba5",
   "execution_count": 6
  },
  {
   "cell_type": "code",
   "outputs": [
    {
     "data": {
      "text/plain": "a    1\nb    2\nc    3\nd    4\ne    5\ndtype: int64"
     },
     "execution_count": 8,
     "metadata": {},
     "output_type": "execute_result"
    }
   ],
   "source": [
    "# 3.从字典创建 Series\n",
    "d = {'a':1,'b':2,'c':3,'d':4,'e':5}\n",
    "df = pd.Series(d)\n",
    "df"
   ],
   "metadata": {
    "collapsed": false,
    "ExecuteTime": {
     "end_time": "2024-04-10T01:38:14.634725Z",
     "start_time": "2024-04-10T01:38:14.626768Z"
    }
   },
   "id": "b039e03e565b3186",
   "execution_count": 8
  },
  {
   "cell_type": "code",
   "outputs": [
    {
     "data": {
      "text/plain": "                                   a         b         c         d\n2024-04-10 09:48:26.409462 -1.483035  0.224180 -1.342794  2.253743\n2024-04-11 09:48:26.409462 -0.029174 -2.659827 -0.067607  0.531702\n2024-04-12 09:48:26.409462 -0.052206 -0.470585 -0.273904  2.345577\n2024-04-13 09:48:26.409462  0.125229  0.820492  1.000879 -0.804780\n2024-04-14 09:48:26.409462 -0.336382 -1.153941  0.470376 -0.224462\n2024-04-15 09:48:26.409462 -1.593045  0.844175 -0.101117  0.127502\n2024-04-16 09:48:26.409462  1.037080 -0.273428  0.169892 -0.175256",
      "text/html": "<div>\n<style scoped>\n    .dataframe tbody tr th:only-of-type {\n        vertical-align: middle;\n    }\n\n    .dataframe tbody tr th {\n        vertical-align: top;\n    }\n\n    .dataframe thead th {\n        text-align: right;\n    }\n</style>\n<table border=\"1\" class=\"dataframe\">\n  <thead>\n    <tr style=\"text-align: right;\">\n      <th></th>\n      <th>a</th>\n      <th>b</th>\n      <th>c</th>\n      <th>d</th>\n    </tr>\n  </thead>\n  <tbody>\n    <tr>\n      <th>2024-04-10 09:48:26.409462</th>\n      <td>-1.483035</td>\n      <td>0.224180</td>\n      <td>-1.342794</td>\n      <td>2.253743</td>\n    </tr>\n    <tr>\n      <th>2024-04-11 09:48:26.409462</th>\n      <td>-0.029174</td>\n      <td>-2.659827</td>\n      <td>-0.067607</td>\n      <td>0.531702</td>\n    </tr>\n    <tr>\n      <th>2024-04-12 09:48:26.409462</th>\n      <td>-0.052206</td>\n      <td>-0.470585</td>\n      <td>-0.273904</td>\n      <td>2.345577</td>\n    </tr>\n    <tr>\n      <th>2024-04-13 09:48:26.409462</th>\n      <td>0.125229</td>\n      <td>0.820492</td>\n      <td>1.000879</td>\n      <td>-0.804780</td>\n    </tr>\n    <tr>\n      <th>2024-04-14 09:48:26.409462</th>\n      <td>-0.336382</td>\n      <td>-1.153941</td>\n      <td>0.470376</td>\n      <td>-0.224462</td>\n    </tr>\n    <tr>\n      <th>2024-04-15 09:48:26.409462</th>\n      <td>-1.593045</td>\n      <td>0.844175</td>\n      <td>-0.101117</td>\n      <td>0.127502</td>\n    </tr>\n    <tr>\n      <th>2024-04-16 09:48:26.409462</th>\n      <td>1.037080</td>\n      <td>-0.273428</td>\n      <td>0.169892</td>\n      <td>-0.175256</td>\n    </tr>\n  </tbody>\n</table>\n</div>"
     },
     "execution_count": 13,
     "metadata": {},
     "output_type": "execute_result"
    }
   ],
   "source": [
    "# 4.从 NumPy 数组创建 DataFrame\n",
    "dates = pd.date_range('today', periods=7)\n",
    "num_arr = np.random.randn(7,4)\n",
    "columns = ['a','b','c','d']\n",
    "df = pd.DataFrame(num_arr, columns=columns,index=dates)\n",
    "df"
   ],
   "metadata": {
    "collapsed": false,
    "ExecuteTime": {
     "end_time": "2024-04-10T01:48:26.418493Z",
     "start_time": "2024-04-10T01:48:26.407391Z"
    }
   },
   "id": "b012771993f430d",
   "execution_count": 13
  },
  {
   "cell_type": "code",
   "outputs": [
    {
     "data": {
      "text/plain": "           序号,门店,订单,订单号,地区,时间\n0  1,1,55,1232132,成都,2023/1/1\n1  2,1,44,2423323,重庆,2023/1/2\n2  3,2,23,3614514,重庆,2023/1/3\n3  4,2,21,4805705,重庆,2023/1/4",
      "text/html": "<div>\n<style scoped>\n    .dataframe tbody tr th:only-of-type {\n        vertical-align: middle;\n    }\n\n    .dataframe tbody tr th {\n        vertical-align: top;\n    }\n\n    .dataframe thead th {\n        text-align: right;\n    }\n</style>\n<table border=\"1\" class=\"dataframe\">\n  <thead>\n    <tr style=\"text-align: right;\">\n      <th></th>\n      <th>序号,门店,订单,订单号,地区,时间</th>\n    </tr>\n  </thead>\n  <tbody>\n    <tr>\n      <th>0</th>\n      <td>1,1,55,1232132,成都,2023/1/1</td>\n    </tr>\n    <tr>\n      <th>1</th>\n      <td>2,1,44,2423323,重庆,2023/1/2</td>\n    </tr>\n    <tr>\n      <th>2</th>\n      <td>3,2,23,3614514,重庆,2023/1/3</td>\n    </tr>\n    <tr>\n      <th>3</th>\n      <td>4,2,21,4805705,重庆,2023/1/4</td>\n    </tr>\n  </tbody>\n</table>\n</div>"
     },
     "execution_count": 19,
     "metadata": {},
     "output_type": "execute_result"
    }
   ],
   "source": [
    "# 5.从CSV中创建 DataFrame，分隔符为;，编码格式为gbk\n",
    "df = pd.read_csv(\"../../data/门店订单信息.csv\", encoding=\"utf-8\", sep=\";\")\n",
    "df"
   ],
   "metadata": {
    "collapsed": false,
    "ExecuteTime": {
     "end_time": "2024-04-10T02:01:53.589309Z",
     "start_time": "2024-04-10T02:01:53.580918Z"
    }
   },
   "id": "2bf6f60da851a5fb",
   "execution_count": 19
  },
  {
   "cell_type": "code",
   "outputs": [],
   "source": [
    "# 6.从字典对象data创建DataFrame，设置索引为labels\n"
   ],
   "metadata": {
    "collapsed": false,
    "ExecuteTime": {
     "end_time": "2024-04-10T01:58:25.794450Z",
     "start_time": "2024-04-10T01:58:25.790264Z"
    }
   },
   "id": "8612bae542db2e07",
   "execution_count": 17
  },
  {
   "cell_type": "code",
   "outputs": [],
   "source": [],
   "metadata": {
    "collapsed": false
   },
   "id": "bf8c9529c8d8cadc"
  }
 ],
 "metadata": {
  "kernelspec": {
   "display_name": "Python 3",
   "language": "python",
   "name": "python3"
  },
  "language_info": {
   "codemirror_mode": {
    "name": "ipython",
    "version": 2
   },
   "file_extension": ".py",
   "mimetype": "text/x-python",
   "name": "python",
   "nbconvert_exporter": "python",
   "pygments_lexer": "ipython2",
   "version": "2.7.6"
  }
 },
 "nbformat": 4,
 "nbformat_minor": 5
}

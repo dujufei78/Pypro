{
 "cells": [
  {
   "cell_type": "code",
   "source": [
    "import pandas as pd\n",
    "import numpy as np\n",
    "df = pd.DataFrame(pd.read_csv('../../data/门店订单信息.csv'))"
   ],
   "metadata": {
    "collapsed": false,
    "ExecuteTime": {
     "end_time": "2024-08-16T01:56:50.194713Z",
     "start_time": "2024-08-16T01:56:50.186147Z"
    }
   },
   "id": "ef568964e3ff6054",
   "outputs": [],
   "execution_count": 3
  },
  {
   "cell_type": "code",
   "source": "df",
   "metadata": {
    "collapsed": false,
    "ExecuteTime": {
     "end_time": "2024-08-16T01:56:51.580236Z",
     "start_time": "2024-08-16T01:56:51.565417Z"
    }
   },
   "id": "a5f76394912abdf2",
   "outputs": [
    {
     "data": {
      "text/plain": [
       "   序号  门店  订单      订单号  地区        时间\n",
       "0   1   1  55  1232132  成都  2023/1/1\n",
       "1   2   1  44  2423323  重庆  2023/1/2\n",
       "2   3   2  23  3614514  重庆  2023/1/3\n",
       "3   4   2  21  4805705  重庆  2023/1/4"
      ],
      "text/html": [
       "<div>\n",
       "<style scoped>\n",
       "    .dataframe tbody tr th:only-of-type {\n",
       "        vertical-align: middle;\n",
       "    }\n",
       "\n",
       "    .dataframe tbody tr th {\n",
       "        vertical-align: top;\n",
       "    }\n",
       "\n",
       "    .dataframe thead th {\n",
       "        text-align: right;\n",
       "    }\n",
       "</style>\n",
       "<table border=\"1\" class=\"dataframe\">\n",
       "  <thead>\n",
       "    <tr style=\"text-align: right;\">\n",
       "      <th></th>\n",
       "      <th>序号</th>\n",
       "      <th>门店</th>\n",
       "      <th>订单</th>\n",
       "      <th>订单号</th>\n",
       "      <th>地区</th>\n",
       "      <th>时间</th>\n",
       "    </tr>\n",
       "  </thead>\n",
       "  <tbody>\n",
       "    <tr>\n",
       "      <th>0</th>\n",
       "      <td>1</td>\n",
       "      <td>1</td>\n",
       "      <td>55</td>\n",
       "      <td>1232132</td>\n",
       "      <td>成都</td>\n",
       "      <td>2023/1/1</td>\n",
       "    </tr>\n",
       "    <tr>\n",
       "      <th>1</th>\n",
       "      <td>2</td>\n",
       "      <td>1</td>\n",
       "      <td>44</td>\n",
       "      <td>2423323</td>\n",
       "      <td>重庆</td>\n",
       "      <td>2023/1/2</td>\n",
       "    </tr>\n",
       "    <tr>\n",
       "      <th>2</th>\n",
       "      <td>3</td>\n",
       "      <td>2</td>\n",
       "      <td>23</td>\n",
       "      <td>3614514</td>\n",
       "      <td>重庆</td>\n",
       "      <td>2023/1/3</td>\n",
       "    </tr>\n",
       "    <tr>\n",
       "      <th>3</th>\n",
       "      <td>4</td>\n",
       "      <td>2</td>\n",
       "      <td>21</td>\n",
       "      <td>4805705</td>\n",
       "      <td>重庆</td>\n",
       "      <td>2023/1/4</td>\n",
       "    </tr>\n",
       "  </tbody>\n",
       "</table>\n",
       "</div>"
      ]
     },
     "execution_count": 4,
     "metadata": {},
     "output_type": "execute_result"
    }
   ],
   "execution_count": 4
  },
  {
   "metadata": {},
   "cell_type": "code",
   "outputs": [],
   "execution_count": null,
   "source": "",
   "id": "ed7e5f190f5d59f3"
  }
 ],
 "metadata": {
  "kernelspec": {
   "display_name": "Python 3",
   "language": "python",
   "name": "python3"
  },
  "language_info": {
   "codemirror_mode": {
    "name": "ipython",
    "version": 2
   },
   "file_extension": ".py",
   "mimetype": "text/x-python",
   "name": "python",
   "nbconvert_exporter": "python",
   "pygments_lexer": "ipython2",
   "version": "2.7.6"
  }
 },
 "nbformat": 4,
 "nbformat_minor": 5
}

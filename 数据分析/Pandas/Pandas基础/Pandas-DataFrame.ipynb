{
 "cells": [
  {
   "cell_type": "code",
   "id": "initial_id",
   "metadata": {
    "collapsed": true,
    "ExecuteTime": {
     "end_time": "2024-08-16T01:59:12.348520Z",
     "start_time": "2024-08-16T01:59:11.849023Z"
    }
   },
   "source": [
    "import pandas as pd\n",
    "data = [['dlrb',10],['lucky',12],['glnz',13]]\n",
    "df = pd.DataFrame(data,columns=['name','age'],dtype='string')\n",
    "print(df)"
   ],
   "outputs": [
    {
     "name": "stdout",
     "output_type": "stream",
     "text": [
      "    name age\n",
      "0   dlrb  10\n",
      "1  lucky  12\n",
      "2   glnz  13\n"
     ]
    }
   ],
   "execution_count": 1
  },
  {
   "cell_type": "code",
   "source": [
    "import pandas as pd\n",
    "data = {'name':['du','jia','yang','liu'], \n",
    "        'age':[12,23,12,44]}\n",
    "df = pd.DataFrame(data,index=['1','du',3,4])\n",
    "# print(df)\n",
    "# print(df.loc[['du',3,4]]) # 返回指定行\n",
    "print(df.loc[[3,4]])"
   ],
   "metadata": {
    "collapsed": false,
    "ExecuteTime": {
     "end_time": "2024-08-16T02:00:17.751503Z",
     "start_time": "2024-08-16T02:00:17.739659Z"
    }
   },
   "id": "c781e4442ad5135d",
   "outputs": [
    {
     "name": "stdout",
     "output_type": "stream",
     "text": [
      "   name  age\n",
      "3  yang   12\n",
      "4   liu   44\n"
     ]
    }
   ],
   "execution_count": 2
  },
  {
   "cell_type": "code",
   "execution_count": 6,
   "outputs": [],
   "source": [
    "df.to_csv('../data/name.csv',index=False)  # 保存DataFrame格式数据,index=False表示不将索引写入"
   ],
   "metadata": {
    "collapsed": false,
    "ExecuteTime": {
     "end_time": "2024-01-16T08:43:16.814210500Z",
     "start_time": "2024-01-16T08:43:16.740141400Z"
    }
   },
   "id": "c7704a6e145a8a40"
  },
  {
   "cell_type": "code",
   "execution_count": null,
   "outputs": [],
   "source": [],
   "metadata": {
    "collapsed": false
   },
   "id": "5a584ca9a601c76b"
  }
 ],
 "metadata": {
  "kernelspec": {
   "display_name": "Python 3",
   "language": "python",
   "name": "python3"
  },
  "language_info": {
   "codemirror_mode": {
    "name": "ipython",
    "version": 2
   },
   "file_extension": ".py",
   "mimetype": "text/x-python",
   "name": "python",
   "nbconvert_exporter": "python",
   "pygments_lexer": "ipython2",
   "version": "2.7.6"
  }
 },
 "nbformat": 4,
 "nbformat_minor": 5
}

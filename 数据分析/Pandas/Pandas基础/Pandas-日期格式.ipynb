{
 "cells": [
  {
   "cell_type": "code",
   "execution_count": 1,
   "id": "initial_id",
   "metadata": {
    "collapsed": true,
    "ExecuteTime": {
     "end_time": "2024-02-29T13:40:30.880143700Z",
     "start_time": "2024-02-29T13:40:27.790563Z"
    }
   },
   "outputs": [
    {
     "name": "stdout",
     "output_type": "stream",
     "text": [
      "            Date  duration\n",
      "day1  2020/12/01        50\n",
      "day2  2020/12/02        40\n",
      "day3    20201226        45\n"
     ]
    }
   ],
   "source": [
    "import pandas as pd\n",
    "data = {\n",
    " \"Date\": ['2020/12/01', '2020/12/02','20201226'],\n",
    " \"duration\": [50, 40, 45]\n",
    "}\n",
    "df = pd.DataFrame(data,index =['day1', 'day2', 'day3'])\n",
    "print(df.to_string())"
   ]
  },
  {
   "cell_type": "code",
   "execution_count": null,
   "outputs": [],
   "source": [
    "# 将Date列的格式转为统一格式\n",
    "df['Date'] = pd.to_datetime(df['Date'],format='mixed')\n",
    "print(df.to_string())"
   ],
   "metadata": {
    "collapsed": false,
    "is_executing": true
   },
   "id": "4975a894aba78922"
  },
  {
   "cell_type": "code",
   "execution_count": null,
   "outputs": [],
   "source": [],
   "metadata": {
    "collapsed": false
   },
   "id": "b32a8e9e28324054"
  }
 ],
 "metadata": {
  "kernelspec": {
   "display_name": "Python 3",
   "language": "python",
   "name": "python3"
  },
  "language_info": {
   "codemirror_mode": {
    "name": "ipython",
    "version": 2
   },
   "file_extension": ".py",
   "mimetype": "text/x-python",
   "name": "python",
   "nbconvert_exporter": "python",
   "pygments_lexer": "ipython2",
   "version": "2.7.6"
  }
 },
 "nbformat": 4,
 "nbformat_minor": 5
}

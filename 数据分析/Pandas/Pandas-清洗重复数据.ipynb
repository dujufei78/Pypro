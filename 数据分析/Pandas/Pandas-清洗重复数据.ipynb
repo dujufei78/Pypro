{
 "cells": [
  {
   "cell_type": "code",
   "execution_count": 6,
   "id": "initial_id",
   "metadata": {
    "collapsed": true,
    "ExecuteTime": {
     "end_time": "2024-01-24T10:28:44.796168Z",
     "start_time": "2024-01-24T10:28:44.777826700Z"
    }
   },
   "outputs": [
    {
     "name": "stdout",
     "output_type": "stream",
     "text": [
      "0    False\n",
      "1    False\n",
      "2     True\n",
      "3    False\n",
      "dtype: bool\n"
     ]
    }
   ],
   "source": [
    "import pandas as pd\n",
    "\n",
    "person = {\n",
    "    \"name\": ['dlrb', 'lucky', 'lucky', 'glnz'],\n",
    "    \"age\": [50, 40, 40, 23]\n",
    "}\n",
    "df = pd.DataFrame(person)\n",
    "# 检查是否有重复数据\n",
    "print(df.duplicated())\n",
    "# 删除数据\n",
    "# print(df.drop_duplicates(inplace=True))\n",
    "# print(df.to_string())"
   ]
  },
  {
   "cell_type": "code",
   "execution_count": null,
   "outputs": [],
   "source": [],
   "metadata": {
    "collapsed": false
   },
   "id": "df5ceb79b860c745"
  }
 ],
 "metadata": {
  "kernelspec": {
   "display_name": "Python 3",
   "language": "python",
   "name": "python3"
  },
  "language_info": {
   "codemirror_mode": {
    "name": "ipython",
    "version": 2
   },
   "file_extension": ".py",
   "mimetype": "text/x-python",
   "name": "python",
   "nbconvert_exporter": "python",
   "pygments_lexer": "ipython2",
   "version": "2.7.6"
  }
 },
 "nbformat": 4,
 "nbformat_minor": 5
}
